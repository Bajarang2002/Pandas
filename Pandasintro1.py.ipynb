{
 "cells": [
  {
   "cell_type": "code",
   "execution_count": 2,
   "id": "8440eeb0",
   "metadata": {},
   "outputs": [
    {
     "name": "stdout",
     "output_type": "stream",
     "text": [
      "0    10\n",
      "1    20\n",
      "2    30\n",
      "3    40\n",
      "4    50\n",
      "5    60\n",
      "6    70\n",
      "dtype: int64\n",
      "<class 'pandas.core.series.Series'>\n"
     ]
    }
   ],
   "source": [
    "# Series\n",
    "import pandas as pd\n",
    "a = [10,20,30,40,50,60,70]\n",
    "s1 = pd.Series(a)\n",
    "print(s1)\n",
    "print(type(s1))"
   ]
  },
  {
   "cell_type": "code",
   "execution_count": 9,
   "id": "fbd7a6c8",
   "metadata": {},
   "outputs": [
    {
     "name": "stdout",
     "output_type": "stream",
     "text": [
      "RangeIndex(start=0, stop=7, step=1)\n",
      "[0, 1, 2, 3, 4, 5, 6]\n",
      "[10 20 30 40 50 60 70]\n"
     ]
    }
   ],
   "source": [
    "print(s1.index)\n",
    "print(s1.index.tolist())\n",
    "print(s1.values)"
   ]
  },
  {
   "cell_type": "code",
   "execution_count": 11,
   "id": "20756579",
   "metadata": {},
   "outputs": [
    {
     "name": "stdout",
     "output_type": "stream",
     "text": [
      "10 30\n",
      "20 50\n"
     ]
    }
   ],
   "source": [
    "print(s1[0],s1[2])\n",
    "print(s1[1],s1[4])"
   ]
  },
  {
   "cell_type": "code",
   "execution_count": null,
   "id": "c71c7440",
   "metadata": {},
   "outputs": [],
   "source": []
  },
  {
   "cell_type": "code",
   "execution_count": 13,
   "id": "3da7a2d1",
   "metadata": {},
   "outputs": [
    {
     "name": "stdout",
     "output_type": "stream",
     "text": [
      "[11 12 13 14 15 16 17 18]\n",
      "0    11\n",
      "1    12\n",
      "2    13\n",
      "3    14\n",
      "4    15\n",
      "5    16\n",
      "6    17\n",
      "7    18\n",
      "dtype: int32\n"
     ]
    }
   ],
   "source": [
    "import numpy as np\n",
    "a = np.array([11,12,13,14,15,16,17,18])\n",
    "print(a)\n",
    "s = pd.Series(a)\n",
    "print(s)"
   ]
  },
  {
   "cell_type": "code",
   "execution_count": 1,
   "id": "51eb04da",
   "metadata": {},
   "outputs": [
    {
     "name": "stdout",
     "output_type": "stream",
     "text": [
      "       Name  Score\n",
      "0  Bajarang     85\n",
      "1    Tanish     90\n",
      "2   Shubham     80\n",
      "3     Soham     89\n",
      "4     Sidhu     88\n",
      "5       Ram     92\n",
      "6      Raju     82\n"
     ]
    }
   ],
   "source": [
    "# DataFrame\n",
    "# Dictionary\n",
    "import pandas as pd\n",
    "data = {'Name':['Bajarang','Tanish','Shubham','Soham','Sidhu','Ram','Raju'],\n",
    "    'Score':[85,90,80,89,88,92,82]}\n",
    "df1 = pd.DataFrame(data)\n",
    "print(df1)"
   ]
  },
  {
   "cell_type": "code",
   "execution_count": 52,
   "id": "d8603e72",
   "metadata": {},
   "outputs": [
    {
     "name": "stdout",
     "output_type": "stream",
     "text": [
      "[['Delhi', 'India', 1], ['Washington', 'USA', 2], ['Tokiyo', 'Japan', 3]]\n",
      "      Capital Country  Geocode\n",
      "0       Delhi   India        1\n",
      "1  Washington     USA        2\n",
      "2      Tokiyo   Japan        3\n"
     ]
    }
   ],
   "source": [
    "# List of list\n",
    "\n",
    "data = [['Delhi','India',1],['Washington','USA',2],['Tokiyo','Japan',3]]\n",
    "print(data)\n",
    "df2 = pd.DataFrame(data)\n",
    "df2.columns = ['Capital','Country','Geocode']\n",
    "print(df2)"
   ]
  },
  {
   "cell_type": "code",
   "execution_count": 53,
   "id": "8cf421cc",
   "metadata": {},
   "outputs": [
    {
     "name": "stdout",
     "output_type": "stream",
     "text": [
      "   Domain  Marks\n",
      "0  Python     89\n",
      "1      Ds     85\n",
      "2     c++     92\n",
      "3      ML     90\n",
      "4     SQL     87\n"
     ]
    }
   ],
   "source": [
    "#  Series\n",
    "\n",
    "s1 =pd.Series(['Python','Ds','c++','ML','SQL'])\n",
    "s2 =pd.Series([89,85,92,90,87])\n",
    "df3 = pd.DataFrame({'Domain':s1,'Marks':s2})\n",
    "print(df3)\n"
   ]
  },
  {
   "cell_type": "code",
   "execution_count": 3,
   "id": "10de02a5",
   "metadata": {},
   "outputs": [
    {
     "name": "stdout",
     "output_type": "stream",
     "text": [
      "  Product  Sales  Units\n",
      "0     Tea    125     12\n",
      "1    Copy    100     10\n",
      "2   Juice     40      4\n",
      "3    Milk     60      6\n"
     ]
    }
   ],
   "source": [
    "# Numpy array\n",
    "\n",
    "import pandas as pd\n",
    "import numpy as np\n",
    "sales= np.array([125,100,40,60])\n",
    "units = np.array([12,10,4,6])\n",
    "product =np.array(['Tea','Copy','Juice','Milk'])\n",
    "df4 = pd.DataFrame({'Product':product,'Sales':sales,'Units':units})\n",
    "print(df4)"
   ]
  },
  {
   "cell_type": "code",
   "execution_count": 6,
   "id": "c1b1d73f",
   "metadata": {},
   "outputs": [
    {
     "name": "stdout",
     "output_type": "stream",
     "text": [
      "  Product\n",
      "0     Tea\n",
      "1    Copy\n",
      "2   Juice\n",
      "3    Milk\n",
      "<class 'pandas.core.frame.DataFrame'>\n"
     ]
    }
   ],
   "source": [
    "df5=pd.DataFrame(df4[['Product']])\n",
    "print(df5)\n",
    "print(type(df5))"
   ]
  },
  {
   "cell_type": "code",
   "execution_count": 40,
   "id": "2188996f",
   "metadata": {},
   "outputs": [
    {
     "name": "stdout",
     "output_type": "stream",
     "text": [
      "  Product  Sales\n",
      "0     Tea    125\n",
      "1    Copy    100\n",
      "2   Juice     40\n",
      "3    Milk     60\n",
      "<class 'pandas.core.frame.DataFrame'>\n"
     ]
    }
   ],
   "source": [
    "df5 = pd.DataFrame(df3[['Product','Sales']])\n",
    "print(df5)\n",
    "print(type(df5))"
   ]
  },
  {
   "cell_type": "code",
   "execution_count": null,
   "id": "c60cc0a1",
   "metadata": {},
   "outputs": [],
   "source": []
  },
  {
   "cell_type": "code",
   "execution_count": null,
   "id": "7c7d6a2c",
   "metadata": {},
   "outputs": [],
   "source": []
  },
  {
   "cell_type": "code",
   "execution_count": null,
   "id": "f7abe916",
   "metadata": {},
   "outputs": [],
   "source": []
  }
 ],
 "metadata": {
  "kernelspec": {
   "display_name": "Python 3 (ipykernel)",
   "language": "python",
   "name": "python3"
  },
  "language_info": {
   "codemirror_mode": {
    "name": "ipython",
    "version": 3
   },
   "file_extension": ".py",
   "mimetype": "text/x-python",
   "name": "python",
   "nbconvert_exporter": "python",
   "pygments_lexer": "ipython3",
   "version": "3.11.3"
  }
 },
 "nbformat": 4,
 "nbformat_minor": 5
}
